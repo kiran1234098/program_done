{
 "cells": [
  {
   "cell_type": "markdown",
   "metadata": {},
   "source": [
    "HackerLand University has the following grading policy:\n",
    "\n",
    "Every student receives a  in the inclusive range from  to .\n",
    "Any  less than  is a failing grade.\n",
    "Sam is a professor at the university and likes to round each student's  according to these rules:\n",
    "\n",
    "If the difference between the  and the next multiple of  is less than , round  up to the next multiple of .\n",
    "If the value of  is less than , no rounding occurs as the result will still be a failing grade.\n",
    "Examples\n",
    "\n",
    " round to  (85 - 84 is less than 3)\n",
    " do not round (result is less than 40)\n",
    " do not round (60 - 57 is 3 or higher)\n",
    "Given the initial value of  for each of Sam's  students, write code to automate the rounding process.\n",
    "\n",
    "Function Description\n",
    "\n",
    "Complete the function gradingStudents in the editor below.\n",
    "\n",
    "gradingStudents has the following parameter(s):\n",
    "\n",
    "int grades[n]: the grades before rounding\n",
    "Returns\n",
    "\n",
    "int[n]: the grades after rounding as appropriate\n",
    "Input Format\n",
    "\n",
    "The first line contains a single integer, , the number of students.\n",
    "Each line  of the  subsequent lines contains a single integer, .\n",
    "\n",
    "Constraints\n",
    "\n",
    "Sample Input 0\n",
    "\n",
    "4\n",
    "73\n",
    "67\n",
    "38\n",
    "33\n",
    "Sample Output 0\n",
    "\n",
    "75\n",
    "67\n",
    "40\n",
    "33\n",
    "Explanation 0\n",
    "\n",
    "image\n",
    "\n",
    "Student  received a , and the next multiple of  from  is . Since , the student's grade is rounded to .\n",
    "Student  received a , and the next multiple of  from  is . Since , the grade will not be modified and the student's final grade is .\n",
    "Student  received a , and the next multiple of  from  is . Since , the student's grade will be rounded to .\n",
    "Student  received a grade below , so the grade will not be modified and the student's final grade is ."
   ]
  },
  {
   "cell_type": "code",
   "execution_count": 1,
   "metadata": {},
   "outputs": [],
   "source": [
    "def gradingStudents(grades):\n",
    "    # Write your code here\n",
    "    #73%5=5-3=2+73=75\n",
    "    #67%5=5-2=3+67=\n",
    "    #38%5=5-3=2+38=40\n",
    "    finalgra=[]\n",
    "    \n",
    "    for i in range(len(grades)):\n",
    "        if grades[i]>=38:\n",
    "            rem=grades[i]%5\n",
    "            com=5-rem\n",
    "            if com>=3:\n",
    "               finalgra.append(grades[i])\n",
    "            else:\n",
    "                p=com+grades[i]\n",
    "                \n",
    "                finalgra.append(p)\n",
    "        else:        \n",
    "              finalgra.append(grades[i])  \n",
    "    return finalgra\n",
    "    "
   ]
  }
 ],
 "metadata": {
  "kernelspec": {
   "display_name": "Python 3.8.10 64-bit",
   "language": "python",
   "name": "python3"
  },
  "language_info": {
   "codemirror_mode": {
    "name": "ipython",
    "version": 3
   },
   "file_extension": ".py",
   "mimetype": "text/x-python",
   "name": "python",
   "nbconvert_exporter": "python",
   "pygments_lexer": "ipython3",
   "version": "3.8.10"
  },
  "orig_nbformat": 4,
  "vscode": {
   "interpreter": {
    "hash": "e7370f93d1d0cde622a1f8e1c04877d8463912d04d973331ad4851f04de6915a"
   }
  }
 },
 "nbformat": 4,
 "nbformat_minor": 2
}
