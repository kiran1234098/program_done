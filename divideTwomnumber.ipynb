{
 "cells": [
  {
   "cell_type": "markdown",
   "metadata": {},
   "source": [
    "Problem Statement: Little Robert likes mathematics. Today his teacher has given him two integers and asked him to find out how many integers can divide both the numbers. Would you like to help him in completing his school assignment?\n",
    "\n",
    "Input Formatting: There are two integers, a and b as input to the program.\n",
    "\n",
    "Output Formatting: Print the number of common factors of a and b. Both the input value should be in a range of 1 to 10^12.\n",
    "\n",
    "Example:\n",
    "\n",
    "Input: 10 15\n",
    "Output: 2\n",
    "Explanation: The common factors of 10 and 15 are 1 and 5. So the answer will be 2."
   ]
  },
  {
   "cell_type": "code",
   "execution_count": 19,
   "metadata": {},
   "outputs": [
    {
     "name": "stdout",
     "output_type": "stream",
     "text": [
      "4\n"
     ]
    }
   ],
   "source": [
    "a=int(input())\n",
    "b=int(input())\n",
    "count=0\n",
    "if a<b:\n",
    "    for i in range(1,a+1):\n",
    "        \n",
    "        if a % i==0 and b % i==0:\n",
    "            count = count +1\n",
    "else:\n",
    "    \n",
    "    for i in range(1,b+1):\n",
    "\n",
    "        if a % i==0 and b % i==0:\n",
    "            count = count +1\n",
    "\n",
    "\n",
    "\n",
    "\n",
    "print(count)            \n",
    "\n",
    "    "
   ]
  },
  {
   "cell_type": "code",
   "execution_count": null,
   "metadata": {},
   "outputs": [],
   "source": []
  }
 ],
 "metadata": {
  "kernelspec": {
   "display_name": "Python 3.8.10 64-bit",
   "language": "python",
   "name": "python3"
  },
  "language_info": {
   "codemirror_mode": {
    "name": "ipython",
    "version": 3
   },
   "file_extension": ".py",
   "mimetype": "text/x-python",
   "name": "python",
   "nbconvert_exporter": "python",
   "pygments_lexer": "ipython3",
   "version": "3.8.10"
  },
  "orig_nbformat": 4,
  "vscode": {
   "interpreter": {
    "hash": "e7370f93d1d0cde622a1f8e1c04877d8463912d04d973331ad4851f04de6915a"
   }
  }
 },
 "nbformat": 4,
 "nbformat_minor": 2
}
