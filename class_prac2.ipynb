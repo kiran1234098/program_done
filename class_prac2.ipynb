{
 "cells": [
  {
   "cell_type": "markdown",
   "metadata": {},
   "source": [
    "switch case by if else"
   ]
  },
  {
   "cell_type": "code",
   "execution_count": 27,
   "metadata": {},
   "outputs": [
    {
     "name": "stdout",
     "output_type": "stream",
     "text": [
      "choice:\n",
      "    add - press 1\n",
      "    sub - press 2\n",
      "    mul - press 3\n",
      "    div - press 4\n",
      "8\n"
     ]
    }
   ],
   "source": [
    "print(\"\"\"choice:\n",
    "    add - press 1\n",
    "    sub - press 2\n",
    "    mul - press 3\n",
    "    div - press 4\"\"\")\n",
    "num = int(input(\"enter a choice\"))\n",
    "x = int(input(\"enter a First number\"))\n",
    "y = int(input(\"enter a second  number\"))\n",
    "if num == 1:\n",
    "    print(x + y)\n",
    "elif num== 2:\n",
    "    print(x-y) \n",
    "\n",
    "elif num == 3:\n",
    "    print(x*y)       \n",
    "\n",
    "elif num == 4:\n",
    "    print(x//y)\n",
    "\n",
    "else:\n",
    "    print(\"bad luck! its wrong choice try again\")    "
   ]
  },
  {
   "cell_type": "markdown",
   "metadata": {},
   "source": [
    "Switch statment in python by list"
   ]
  },
  {
   "cell_type": "code",
   "execution_count": 9,
   "metadata": {},
   "outputs": [
    {
     "name": "stdout",
     "output_type": "stream",
     "text": [
      "\n",
      "    1 . add\n",
      "    2  . sub\n",
      "    3  .  mul\n",
      "    4   .   div\n"
     ]
    },
    {
     "data": {
      "text/plain": [
       "6"
      ]
     },
     "execution_count": 9,
     "metadata": {},
     "output_type": "execute_result"
    }
   ],
   "source": [
    "#class calc :\n",
    "def take_input():\n",
    "        first = int(input(\"enter first number\"))\n",
    "        second = int(input(\"enter second number \"))\n",
    "        return first,second\n",
    "\n",
    "def add() :\n",
    "        x,y =take_input()\n",
    "        z = x+y\n",
    "        return z\n",
    "\n",
    "def mul():\n",
    "            x,y =take_input()\n",
    "            z =x*y\n",
    "            return z\n",
    "def div():\n",
    "            x,y =take_input()\n",
    "            z =x//y\n",
    "            return z\n",
    "\n",
    "def sub():\n",
    "            x,y =take_input()\n",
    "            z =x-y\n",
    "            return z\n",
    "\n",
    "#obj = calc()\n",
    "\n",
    "print(\"\"\"\n",
    "    1 . add\n",
    "    2  . sub\n",
    "    3  .  mul\n",
    "    4   .   div\"\"\")\n",
    "\n",
    "i = int(input(\"enter number\"))\n",
    "\n",
    "\n",
    "opration = [add,sub,mul,div]    \n",
    "opration[i-1]()\n",
    "\n",
    "\n"
   ]
  },
  {
   "cell_type": "markdown",
   "metadata": {},
   "source": [
    "Switch statment in python by list"
   ]
  },
  {
   "cell_type": "code",
   "execution_count": 28,
   "metadata": {},
   "outputs": [
    {
     "name": "stdout",
     "output_type": "stream",
     "text": [
      "\n",
      "    1 . add\n",
      "    2  . sub\n",
      "    3  .  mul\n",
      "    4   .   div\n",
      "12\n"
     ]
    }
   ],
   "source": [
    "class calc :\n",
    "    r =[add,sub,mul,div]\n",
    "    def __init__(self,i):\n",
    "        self.op=i\n",
    "    \n",
    "    def take_input():\n",
    "        first = int(input(\"enter first number\"))\n",
    "        second = int(input(\"enter second number \"))\n",
    "        return first,second\n",
    "    \n",
    "    def add(self) :\n",
    "        x,y =take_input()\n",
    "        z = x+y\n",
    "        return z\n",
    "\n",
    "    def mul(self):\n",
    "            x,y =take_input()\n",
    "            z =x*y\n",
    "            return z\n",
    "    def div(self):\n",
    "            x,y =take_input()\n",
    "            z =x//y\n",
    "            return z\n",
    "\n",
    "    def sub(self):\n",
    "            x,y =take_input()\n",
    "            z =x-y\n",
    "            return z\n",
    "\n",
    "    def know(self):\n",
    "        z=calc.r[self.op-1]() \n",
    "        print(z) \n",
    "              \n",
    "\n",
    "\n",
    "obj = calc( int(input(\"enter number\")))\n",
    "\n",
    "print(\"\"\"\n",
    "    1 . add\n",
    "    2  . sub\n",
    "    3  .  mul\n",
    "    4   .   div\"\"\")\n",
    "\n",
    "#i = int(input(\"enter number\"))\n",
    "\n",
    "obj.know()\n"
   ]
  },
  {
   "cell_type": "markdown",
   "metadata": {},
   "source": [
    "switch using disc"
   ]
  },
  {
   "cell_type": "code",
   "execution_count": 42,
   "metadata": {},
   "outputs": [
    {
     "name": "stdout",
     "output_type": "stream",
     "text": [
      "\n",
      "    1 . add\n",
      "    2  . sub\n",
      "    3  .  mul\n",
      "    4   .   div\n",
      "choice is wrong\n",
      "None\n"
     ]
    }
   ],
   "source": [
    "#class calc :\n",
    "def take_input():\n",
    "        first = int(input(\"enter first number\"))\n",
    "        second = int(input(\"enter second number \"))\n",
    "        return first,second\n",
    "\n",
    "def add() :\n",
    "        x,y =take_input()\n",
    "        z = x+y\n",
    "        return z\n",
    "\n",
    "def mul():\n",
    "            x,y =take_input()\n",
    "            z =x*y\n",
    "            return z\n",
    "def div():\n",
    "            x,y =take_input()\n",
    "            z =x//y\n",
    "            return z\n",
    "\n",
    "def sub():\n",
    "            x,y =take_input()\n",
    "            z =x-y\n",
    "            return z\n",
    "def error_p():\n",
    "    print(\"choice is wrong\")           \n",
    "\n",
    "#obj = calc()\n",
    "\n",
    "print(\"\"\"\n",
    "    1 . add\n",
    "    2  . sub\n",
    "    3  .  mul\n",
    "    4   .   div\"\"\")\n",
    "\n",
    "i = int(input(\"enter number\"))\n",
    "\n",
    "\n",
    "opration = {\n",
    "    1: add,\n",
    "    2:sub,\n",
    "    3:mul,\n",
    "    4:div}   \n",
    "\n",
    "\n",
    "print(opration.get(i,error_p)())\n"
   ]
  }
 ],
 "metadata": {
  "kernelspec": {
   "display_name": "Python 3.8.10 64-bit",
   "language": "python",
   "name": "python3"
  },
  "language_info": {
   "codemirror_mode": {
    "name": "ipython",
    "version": 3
   },
   "file_extension": ".py",
   "mimetype": "text/x-python",
   "name": "python",
   "nbconvert_exporter": "python",
   "pygments_lexer": "ipython3",
   "version": "3.8.10"
  },
  "orig_nbformat": 4,
  "vscode": {
   "interpreter": {
    "hash": "e7370f93d1d0cde622a1f8e1c04877d8463912d04d973331ad4851f04de6915a"
   }
  }
 },
 "nbformat": 4,
 "nbformat_minor": 2
}
