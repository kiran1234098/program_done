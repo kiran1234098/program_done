{
 "cells": [
  {
   "cell_type": "markdown",
   "metadata": {},
   "source": [
    "Staircase detail\n",
    "\n",
    "This is a staircase of size :\n",
    "\n",
    "   #\n",
    "  ##\n",
    " ###\n",
    "####\n",
    "Its base and height are both equal to . It is drawn using # symbols and spaces. The last line is not preceded by any spaces.\n",
    "\n",
    "Write a program that prints a staircase of size .\n",
    "\n",
    "Function Description\n",
    "\n",
    "Complete the staircase function in the editor below.\n",
    "\n",
    "staircase has the following parameter(s):\n",
    "\n",
    "int n: an integer\n",
    "Print\n",
    "\n",
    "Print a staircase as described above.\n",
    "\n",
    "Input Format\n",
    "\n",
    "A single integer, , denoting the size of the staircase.\n",
    "\n",
    "Constraints\n",
    "\n",
    " .\n",
    "\n",
    "Output Format\n",
    "\n",
    "Print a staircase of size  using # symbols and spaces.\n",
    "\n",
    "Note: The last line must have  spaces in it.\n",
    "\n",
    "Sample Input\n",
    "\n",
    "6 \n",
    "Sample Output\n",
    "\n",
    "     #\n",
    "    ##\n",
    "   ###\n",
    "  ####\n",
    " #####\n",
    "######\n",
    "Explanation\n",
    "\n",
    "The staircase is right-aligned, composed of # symbols and spaces, and has a height and width of ."
   ]
  },
  {
   "cell_type": "code",
   "execution_count": 1,
   "metadata": {},
   "outputs": [
    {
     "name": "stdout",
     "output_type": "stream",
     "text": [
      "     #\n",
      "    ##\n",
      "   ###\n",
      "  ####\n",
      " #####\n",
      "######\n"
     ]
    }
   ],
   "source": [
    "def staircase(n):\n",
    "    # Write your code here\n",
    "    k=n-1\n",
    "    for i in range(n):\n",
    "        for j in range(k):\n",
    "            print(\" \",end='')\n",
    "        for j in range(0,i+1):\n",
    "            print(\"#\",end='')  \n",
    "              \n",
    "        print(\"\\r\")\n",
    "        k=k-1\n",
    "staircase(6)       "
   ]
  }
 ],
 "metadata": {
  "kernelspec": {
   "display_name": "Python 3.8.10 64-bit",
   "language": "python",
   "name": "python3"
  },
  "language_info": {
   "codemirror_mode": {
    "name": "ipython",
    "version": 3
   },
   "file_extension": ".py",
   "mimetype": "text/x-python",
   "name": "python",
   "nbconvert_exporter": "python",
   "pygments_lexer": "ipython3",
   "version": "3.8.10"
  },
  "orig_nbformat": 4,
  "vscode": {
   "interpreter": {
    "hash": "e7370f93d1d0cde622a1f8e1c04877d8463912d04d973331ad4851f04de6915a"
   }
  }
 },
 "nbformat": 4,
 "nbformat_minor": 2
}
