{
 "cells": [
  {
   "cell_type": "code",
   "execution_count": 1,
   "metadata": {},
   "outputs": [
    {
     "name": "stdout",
     "output_type": "stream",
     "text": [
      "divition of Var 1 :3and var2 :4 is 1\n"
     ]
    }
   ],
   "source": [
    "Var1 = 3\n",
    "Var2 = 4\n",
    "Var3 = Var2//Var1\n",
    "print(f\"divition of Var 1 :{Var1}and var2 :{Var2} is {Var3}\")"
   ]
  },
  {
   "cell_type": "code",
   "execution_count": 2,
   "metadata": {},
   "outputs": [
    {
     "name": "stdout",
     "output_type": "stream",
     "text": [
      "divition of Var 1 :3and var2 :4 is 1.3333333333333333\n"
     ]
    }
   ],
   "source": [
    "Var1 = 3\n",
    "Var2 = 4\n",
    "Var3 = Var2/Var1\n",
    "print(f\"divition of Var 1 :{Var1}and var2 :{Var2} is {Var3}\")"
   ]
  },
  {
   "cell_type": "code",
   "execution_count": 3,
   "metadata": {},
   "outputs": [
    {
     "name": "stdout",
     "output_type": "stream",
     "text": [
      "divition of Var 1 :3and var2 :4 is 1\n"
     ]
    }
   ],
   "source": [
    "Var1 = 3\n",
    "Var2 = 4\n",
    "Var3 = Var2 % Var1\n",
    "print(f\"divition of Var 1 :{Var1}and var2 :{Var2} is {Var3}\")"
   ]
  },
  {
   "cell_type": "code",
   "execution_count": 4,
   "metadata": {},
   "outputs": [
    {
     "name": "stdout",
     "output_type": "stream",
     "text": [
      "divition of Var 1 :4and var2 :3 is 0\n"
     ]
    }
   ],
   "source": [
    "Var1 = 4\n",
    "Var2 = 3\n",
    "Var3 = Var2//Var1\n",
    "print(f\"divition of Var 1 :{Var1}and var2 :{Var2} is {Var3}\")"
   ]
  },
  {
   "cell_type": "code",
   "execution_count": 5,
   "metadata": {},
   "outputs": [
    {
     "name": "stdout",
     "output_type": "stream",
     "text": [
      "divition of Var 1 :3and var2 :4 is 7\n"
     ]
    }
   ],
   "source": [
    "Var1 = 3\n",
    "Var2 = 4\n",
    "Var3 = Var2+Var1\n",
    "print(f\"divition of Var 1 :{Var1}and var2 :{Var2} is {Var3}\")"
   ]
  },
  {
   "cell_type": "code",
   "execution_count": 6,
   "metadata": {},
   "outputs": [
    {
     "name": "stdout",
     "output_type": "stream",
     "text": [
      "divition of Var 1 :3and var2 :4 is 1\n"
     ]
    }
   ],
   "source": [
    "Var1 = 3\n",
    "Var2 = 4\n",
    "Var3 = Var2-Var1\n",
    "print(f\"divition of Var 1 :{Var1}and var2 :{Var2} is {Var3}\")"
   ]
  },
  {
   "cell_type": "code",
   "execution_count": 9,
   "metadata": {},
   "outputs": [
    {
     "name": "stdout",
     "output_type": "stream",
     "text": [
      "VAr2 :4 is devisible by Var1 2\n"
     ]
    }
   ],
   "source": [
    "Var1 = 2\n",
    "Var2 = 4\n",
    "if Var2 % Var1 ==0:\n",
    "    print(f\"VAr2 :{Var2} is devisible by Var1 {Var1}\")\n",
    "else:\n",
    "    print(\"not divisible\")    "
   ]
  },
  {
   "cell_type": "code",
   "execution_count": 11,
   "metadata": {},
   "outputs": [
    {
     "name": "stdout",
     "output_type": "stream",
     "text": [
      "cube of x : 4 is 64\n"
     ]
    }
   ],
   "source": [
    "x = 4\n",
    "print(f\"cube of x : {x} is {x**3}\")"
   ]
  },
  {
   "cell_type": "code",
   "execution_count": 14,
   "metadata": {},
   "outputs": [
    {
     "name": "stdout",
     "output_type": "stream",
     "text": [
      "power of y : 5 is x : 4 = 625\n"
     ]
    }
   ],
   "source": [
    "x = 4\n",
    "y=5\n",
    "print(f\"power of y : {y} is x : {x} = {y **x}\")"
   ]
  },
  {
   "cell_type": "code",
   "execution_count": 24,
   "metadata": {},
   "outputs": [
    {
     "data": {
      "text/plain": [
       "('k', 'i', 'r', 'a', 'n', 'k', 'i', 'r', 'a', 'n')"
      ]
     },
     "execution_count": 24,
     "metadata": {},
     "output_type": "execute_result"
    }
   ],
   "source": [
    "y = \"kiran\"\n",
    "a=y[0]\n",
    "b=y[1]\n",
    "c=y[2]\n",
    "d=y[3]\n",
    "e=y[4]\n",
    "f=y[-5]\n",
    "g=y[-4]\n",
    "h=y[-3]\n",
    "i=y[-2]\n",
    "j=y[-1]\n",
    "a,b,c,d,e ,f,g,h,i,j"
   ]
  },
  {
   "cell_type": "code",
   "execution_count": 68,
   "metadata": {},
   "outputs": [
    {
     "data": {
      "text/plain": [
       "''"
      ]
     },
     "execution_count": 68,
     "metadata": {},
     "output_type": "execute_result"
    }
   ],
   "source": [
    "y= \"kiran\"\n",
    "y[-1:-5]"
   ]
  },
  {
   "cell_type": "code",
   "execution_count": 63,
   "metadata": {},
   "outputs": [
    {
     "name": "stdout",
     "output_type": "stream",
     "text": [
      "kiran an r kir \n"
     ]
    }
   ],
   "source": [
    "y= \"kiran\"\n",
    "print(y[0:],y[3:],y[2:3],y[:3],y[-1:-6])"
   ]
  },
  {
   "cell_type": "code",
   "execution_count": 40,
   "metadata": {},
   "outputs": [
    {
     "name": "stdout",
     "output_type": "stream",
     "text": [
      "my birth day is on 15 August 1999\n"
     ]
    }
   ],
   "source": [
    "birth = \"15/08/1999\"\n",
    "r=birth[4:5]\n",
    "def month(r):\n",
    "    m ={\n",
    "        1 : \"jenuary\",\n",
    "        2 : \"febuary\",\n",
    "        3 : \"march\",\n",
    "        4 : \"april\",\n",
    "        5 : \"may \",\n",
    "        6 : \"jun\",\n",
    "        7 : \"july\",\n",
    "        8 : \"August\",\n",
    "        9 : \"septamber\",\n",
    "        10 : \"actober\",\n",
    "        11 : \"november\",\n",
    "        12 : \"december\"\n",
    "    }\n",
    "    \n",
    "       \n",
    "    return m.get(r)\n",
    "\n",
    "print(f\"my birth day is on {birth[0:2]} {month(int(birth[4:5]))} {birth[6:]}\")"
   ]
  },
  {
   "cell_type": "code",
   "execution_count": 55,
   "metadata": {},
   "outputs": [
    {
     "data": {
      "text/plain": [
       "'kiran'"
      ]
     },
     "execution_count": 55,
     "metadata": {},
     "output_type": "execute_result"
    }
   ],
   "source": [
    "x= \"kiran\"\n",
    "x[-5::1]"
   ]
  },
  {
   "cell_type": "markdown",
   "metadata": {},
   "source": [
    "palidrom "
   ]
  },
  {
   "cell_type": "code",
   "execution_count": 72,
   "metadata": {},
   "outputs": [
    {
     "name": "stdout",
     "output_type": "stream",
     "text": [
      "narik\n",
      "string is palindrom madam\n"
     ]
    }
   ],
   "source": [
    "data = \"madam\"\n",
    "if data == data[::-1]:\n",
    "    print(f\"string is palindrom {data}\")\n",
    "else :\n",
    "    print(\"not\")    "
   ]
  },
  {
   "cell_type": "code",
   "execution_count": 92,
   "metadata": {},
   "outputs": [
    {
     "name": "stdout",
     "output_type": "stream",
     "text": [
      "kiran\n",
      "Kiran\n",
      "1\n",
      "5\n"
     ]
    }
   ],
   "source": [
    "k= \"kiran\"\n",
    "#k=\"f\"+k[1:]\n",
    "print(k)\n",
    "#print(k.replace(\"iran\",\"abc\"))\n",
    "print(k.capitalize())\n",
    "print(k.count(k))\n",
    "print(len(k))\n"
   ]
  },
  {
   "cell_type": "code",
   "execution_count": 95,
   "metadata": {},
   "outputs": [
    {
     "data": {
      "text/plain": [
       "'08'"
      ]
     },
     "execution_count": 95,
     "metadata": {},
     "output_type": "execute_result"
    }
   ],
   "source": [
    "bith =\"15/07/1999\"\n",
    "day,month,year =birth.split(\"/\")\n",
    "month"
   ]
  }
 ],
 "metadata": {
  "kernelspec": {
   "display_name": "Python 3.8.10 64-bit",
   "language": "python",
   "name": "python3"
  },
  "language_info": {
   "codemirror_mode": {
    "name": "ipython",
    "version": 3
   },
   "file_extension": ".py",
   "mimetype": "text/x-python",
   "name": "python",
   "nbconvert_exporter": "python",
   "pygments_lexer": "ipython3",
   "version": "3.8.10"
  },
  "orig_nbformat": 4,
  "vscode": {
   "interpreter": {
    "hash": "e7370f93d1d0cde622a1f8e1c04877d8463912d04d973331ad4851f04de6915a"
   }
  }
 },
 "nbformat": 4,
 "nbformat_minor": 2
}
