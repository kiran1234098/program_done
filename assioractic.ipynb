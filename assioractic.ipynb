{
 "cells": [
  {
   "cell_type": "code",
   "execution_count": 123,
   "metadata": {},
   "outputs": [
    {
     "name": "stdout",
     "output_type": "stream",
     "text": [
      "False\n"
     ]
    }
   ],
   "source": [
    "import re\n",
    "\n",
    "txt = '''122,\n",
    "123,456,678123'''\n",
    "#Search for a sequence that starts with \"he\", followed by 0 or 1  (any) character, and an \"o\":\n",
    "#ss=re.compile(\"^\\d.?\\d.?\\d,\", re.DOTALL)\n",
    "ss=re.compile(r\"(^(\\d(\\n)?\\d(\\n)?\\d,)(\\n)?)\", re.M)\n",
    "#y = ss.search(txt)\n",
    "\n",
    "x = ss.search(txt)==None\n",
    "#print(y.group())\n",
    "\n",
    "print(x)"
   ]
  },
  {
   "cell_type": "code",
   "execution_count": 76,
   "metadata": {},
   "outputs": [
    {
     "name": "stdout",
     "output_type": "stream",
     "text": [
      "Kiran Capat\n"
     ]
    }
   ],
   "source": [
    "# Python3 code to find sequences of one upper\n",
    "# case letter followed by lower case letters\n",
    "import re\n",
    "\n",
    "# Function to match the string\n",
    "def match(text):\n",
    "\t\t\n",
    "\t\t# regex\n",
    "\t\t#pattern = r'(^[A-Z][a-z]+)'\n",
    "\t\t\n",
    "\t\t# searching pattern\n",
    "\t\tmatche= re.compile(r'(\\b[A-Z][a-z]+)(\\S|\\s)(\\b[A-Z][a-z]+)',re.M)\n",
    "\t\tsome=matche.search(text)\n",
    "\t\treturn some.group()\n",
    "\t\t#maches=matche.finditer(text)\n",
    "\t\t#for i in maches:\n",
    "\t\t\t#print(i.group())\n",
    "\n",
    "\n",
    "\n",
    "# Driver Function\n",
    "\n",
    "#print(match('MSKiran Aapat'))\n",
    "\n",
    "#print(match('Capat'))\n",
    "print(match('Kiran Capat'))\n"
   ]
  },
  {
   "cell_type": "code",
   "execution_count": 3,
   "metadata": {},
   "outputs": [
    {
     "name": "stdout",
     "output_type": "stream",
     "text": [
      "5 3\n"
     ]
    }
   ],
   "source": [
    "for i in range(6):\n",
    "    for j in range(4):\n",
    "        if i==j:\n",
    "            break\n",
    "        \n",
    "print(i,j)"
   ]
  },
  {
   "cell_type": "markdown",
   "metadata": {},
   "source": []
  }
 ],
 "metadata": {
  "kernelspec": {
   "display_name": "Python 3.8.10 64-bit",
   "language": "python",
   "name": "python3"
  },
  "language_info": {
   "codemirror_mode": {
    "name": "ipython",
    "version": 3
   },
   "file_extension": ".py",
   "mimetype": "text/x-python",
   "name": "python",
   "nbconvert_exporter": "python",
   "pygments_lexer": "ipython3",
   "version": "3.8.10"
  },
  "orig_nbformat": 4,
  "vscode": {
   "interpreter": {
    "hash": "e7370f93d1d0cde622a1f8e1c04877d8463912d04d973331ad4851f04de6915a"
   }
  }
 },
 "nbformat": 4,
 "nbformat_minor": 2
}
