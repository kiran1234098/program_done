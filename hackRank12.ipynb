{
 "cells": [
  {
   "cell_type": "markdown",
   "metadata": {},
   "source": [
    "There will be two arrays of integers. Determine all integers that satisfy the following two conditions:\n",
    "\n",
    "The elements of the first array are all factors of the integer being considered\n",
    "The integer being considered is a factor of all elements of the second array\n",
    "These numbers are referred to as being between the two arrays. Determine how many such numbers exist.\n",
    "\n",
    "Example\n",
    "\n",
    "\n",
    "There are two numbers between the arrays:  and .\n",
    ", ,  and  for the first value.\n",
    ",  and ,  for the second value. Return .\n",
    "\n",
    "Function Description\n",
    "\n",
    "Complete the getTotalX function in the editor below. It should return the number of integers that are betwen the sets.\n",
    "\n",
    "getTotalX has the following parameter(s):\n",
    "\n",
    "int a[n]: an array of integers\n",
    "int b[m]: an array of integers\n",
    "Returns\n",
    "\n",
    "int: the number of integers that are between the sets\n",
    "Input Format\n",
    "\n",
    "The first line contains two space-separated integers,  and , the number of elements in arrays  and .\n",
    "The second line contains  distinct space-separated integers  where .\n",
    "The third line contains  distinct space-separated integers  where .\n",
    "\n",
    "Constraints\n",
    "\n",
    "Sample Input\n",
    "\n",
    "2 3\n",
    "2 4\n",
    "16 32 96\n",
    "Sample Output\n",
    "\n",
    "3\n",
    "Explanation\n",
    "\n",
    "2 and 4 divide evenly into 4, 8, 12 and 16.\n",
    "4, 8 and 16 divide evenly into 16, 32, 96.\n",
    "\n",
    "4, 8 and 16 are the only three numbers for which each element of a is a factor and each is a factor of all elements of b."
   ]
  },
  {
   "cell_type": "code",
   "execution_count": null,
   "metadata": {},
   "outputs": [],
   "source": [
    "def getTotalX(a, b):\n",
    "    # Write your code here\n",
    "    al=len(a)\n",
    "    bl=len(b)\n",
    "    count=0\n",
    "    m=min(a)\n",
    "    x=max(b)\n",
    "    a.extend(b)\n",
    "    while x>=m:\n",
    "     for i in range(len(a)):\n",
    "       if i<al:\n",
    "        if m%a[i]!=0:\n",
    "            m=m+1\n",
    "            i=0\n",
    "            break\n",
    "        \n",
    "       if i>=al:\n",
    "        if a[i]%m!=0:\n",
    "            m=m+1\n",
    "            i=0\n",
    "            break \n",
    "           \n",
    "     if i==len(a)-1:\n",
    "        \n",
    "        print(m,i)\n",
    "        i=0\n",
    "        m=m+1\n",
    "        count=count+1\n",
    "         \n",
    "           \n",
    "    return count   "
   ]
  }
 ],
 "metadata": {
  "kernelspec": {
   "display_name": "Python 3.8.10 64-bit",
   "language": "python",
   "name": "python3"
  },
  "language_info": {
   "name": "python",
   "version": "3.8.10"
  },
  "orig_nbformat": 4,
  "vscode": {
   "interpreter": {
    "hash": "e7370f93d1d0cde622a1f8e1c04877d8463912d04d973331ad4851f04de6915a"
   }
  }
 },
 "nbformat": 4,
 "nbformat_minor": 2
}
