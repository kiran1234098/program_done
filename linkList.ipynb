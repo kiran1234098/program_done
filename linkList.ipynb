{
 "cells": [
  {
   "cell_type": "code",
   "execution_count": 6,
   "metadata": {},
   "outputs": [
    {
     "name": "stdout",
     "output_type": "stream",
     "text": [
      "1\n",
      "2\n",
      "3\n"
     ]
    }
   ],
   "source": [
    "class Node:\n",
    "    def __init__(self,data):\n",
    "        self.data=data\n",
    "        self.next =None\n",
    "\n",
    "class linkList:\n",
    "    def __init__(self):\n",
    "        self.head=None\n",
    "\n",
    "    def printListData(self)  :\n",
    "        temp=self.head\n",
    "        while temp:\n",
    "            print(temp.data)  \n",
    "            temp=temp.next\n",
    "\n",
    "if __name__ == \"__main__\":\n",
    "\n",
    "    llist = linkList()\n",
    "    llist.head=Node(1)\n",
    "    secod=Node(2)\n",
    "    third=Node(3)\n",
    "\n",
    "    llist.head.next=secod\n",
    "    secod.next=third\n",
    "\n",
    "    llist.printListData()\n",
    "\n",
    "\n",
    "\n"
   ]
  },
  {
   "cell_type": "code",
   "execution_count": null,
   "metadata": {},
   "outputs": [],
   "source": []
  }
 ],
 "metadata": {
  "kernelspec": {
   "display_name": "Python 3.8.10 64-bit",
   "language": "python",
   "name": "python3"
  },
  "language_info": {
   "codemirror_mode": {
    "name": "ipython",
    "version": 3
   },
   "file_extension": ".py",
   "mimetype": "text/x-python",
   "name": "python",
   "nbconvert_exporter": "python",
   "pygments_lexer": "ipython3",
   "version": "3.8.10"
  },
  "orig_nbformat": 4,
  "vscode": {
   "interpreter": {
    "hash": "e7370f93d1d0cde622a1f8e1c04877d8463912d04d973331ad4851f04de6915a"
   }
  }
 },
 "nbformat": 4,
 "nbformat_minor": 2
}
