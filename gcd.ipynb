{
 "cells": [
  {
   "cell_type": "markdown",
   "metadata": {},
   "source": [
    "Program to Find GCD or HCF of Two Numbers\n"
   ]
  },
  {
   "cell_type": "code",
   "execution_count": 7,
   "metadata": {},
   "outputs": [
    {
     "data": {
      "text/plain": [
       "2"
      ]
     },
     "execution_count": 7,
     "metadata": {},
     "output_type": "execute_result"
    }
   ],
   "source": [
    "a=int(input(\"enter a number\"))\n",
    "b=int(input(\"enter a number\"))\n",
    "def gcd(a,b):\n",
    "    if a==0:\n",
    "        return b\n",
    "\n",
    "    elif b==0:\n",
    "        return a\n",
    "    elif a>b:\n",
    "        return gcd(a%b,b)\n",
    "    else :\n",
    "        return gcd(a,b%a)\n",
    "\n",
    "gcd(a,b)                        "
   ]
  },
  {
   "cell_type": "code",
   "execution_count": 12,
   "metadata": {},
   "outputs": [
    {
     "data": {
      "text/plain": [
       "25"
      ]
     },
     "execution_count": 12,
     "metadata": {},
     "output_type": "execute_result"
    }
   ],
   "source": [
    "a=50\n",
    "b=25\n",
    "result =min(a,b)\n",
    "while result:\n",
    "    if a%result==0 and b%result==0:\n",
    "        break;\n",
    "    result=result -1   \n",
    "\n",
    "result     "
   ]
  },
  {
   "cell_type": "code",
   "execution_count": 25,
   "metadata": {},
   "outputs": [],
   "source": [
    "a=25//5\n",
    "while "
   ]
  },
  {
   "cell_type": "code",
   "execution_count": 69,
   "metadata": {},
   "outputs": [
    {
     "name": "stdout",
     "output_type": "stream",
     "text": [
      "30 5.0\n"
     ]
    }
   ],
   "source": [
    "a=f=10\n",
    "b=d=15\n",
    "c=1\n",
    "i=2\n",
    "flag =True\n",
    "while flag:\n",
    "    if (a % i !=0 or a==1) and (b % i !=0 or b==1):\n",
    "        i=i+1\n",
    "    if a   % i ==0 or  b % i ==0: \n",
    "        \n",
    "        c=c*i\n",
    "        if a%i ==0:\n",
    "            a=a//i \n",
    "        if b%i ==0:\n",
    "            b=b//i\n",
    "        \n",
    "    if a==1 and b ==1 :\n",
    "        flag=False\n",
    "           \n",
    "               \n",
    "e=(f*d )/c        \n",
    "print(c,e)           \n",
    "   "
   ]
  },
  {
   "cell_type": "code",
   "execution_count": null,
   "metadata": {},
   "outputs": [],
   "source": []
  },
  {
   "cell_type": "code",
   "execution_count": 41,
   "metadata": {},
   "outputs": [
    {
     "data": {
      "text/plain": [
       "5"
      ]
     },
     "execution_count": 41,
     "metadata": {},
     "output_type": "execute_result"
    }
   ],
   "source": [
    "10//2"
   ]
  }
 ],
 "metadata": {
  "kernelspec": {
   "display_name": "Python 3.8.10 64-bit",
   "language": "python",
   "name": "python3"
  },
  "language_info": {
   "codemirror_mode": {
    "name": "ipython",
    "version": 3
   },
   "file_extension": ".py",
   "mimetype": "text/x-python",
   "name": "python",
   "nbconvert_exporter": "python",
   "pygments_lexer": "ipython3",
   "version": "3.8.10"
  },
  "orig_nbformat": 4,
  "vscode": {
   "interpreter": {
    "hash": "e7370f93d1d0cde622a1f8e1c04877d8463912d04d973331ad4851f04de6915a"
   }
  }
 },
 "nbformat": 4,
 "nbformat_minor": 2
}
