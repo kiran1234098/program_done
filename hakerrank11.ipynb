{
 "cells": [
  {
   "cell_type": "markdown",
   "metadata": {},
   "source": [
    "You are in charge of the cake for a child's birthday. You have decided the cake will have one candle for each year of their total age. They will only be able to blow out the tallest of the candles. Count how many candles are tallest.\n",
    "\n",
    "Example\n",
    "\n",
    "\n",
    "The maximum height candles are  units high. There are  of them, so return .\n",
    "\n",
    "Function Description\n",
    "\n",
    "Complete the function birthdayCakeCandles in the editor below.\n",
    "\n",
    "birthdayCakeCandles has the following parameter(s):\n",
    "\n",
    "int candles[n]: the candle heights\n",
    "Returns\n",
    "\n",
    "int: the number of candles that are tallest\n",
    "Input Format\n",
    "\n",
    "The first line contains a single integer, , the size of .\n",
    "The second line contains  space-separated integers, where each integer  describes the height of .\n",
    "\n",
    "Constraints\n",
    "\n",
    "Sample Input 0\n",
    "\n",
    "4\n",
    "3 2 1 3\n",
    "Sample Output 0\n",
    "\n",
    "2\n",
    "Explanation 0\n",
    "\n",
    "Candle heights are . The tallest candles are  units, and there are  of them."
   ]
  },
  {
   "cell_type": "code",
   "execution_count": 3,
   "metadata": {},
   "outputs": [
    {
     "data": {
      "text/plain": [
       "2"
      ]
     },
     "execution_count": 3,
     "metadata": {},
     "output_type": "execute_result"
    }
   ],
   "source": [
    "def birthdayCakeCandles(candles):\n",
    "    # Write your code here\n",
    "    a=sorted(candles)\n",
    "    c=len(a)\n",
    "    count=0\n",
    "    for i in a:\n",
    "         \n",
    "         if a[c-1]== i:\n",
    "            count=count+1\n",
    "\n",
    "    return count   \n",
    "\n",
    "e=birthdayCakeCandles([2,3,4,5,3,5])\n",
    "e"
   ]
  }
 ],
 "metadata": {
  "kernelspec": {
   "display_name": "Python 3.8.10 64-bit",
   "language": "python",
   "name": "python3"
  },
  "language_info": {
   "codemirror_mode": {
    "name": "ipython",
    "version": 3
   },
   "file_extension": ".py",
   "mimetype": "text/x-python",
   "name": "python",
   "nbconvert_exporter": "python",
   "pygments_lexer": "ipython3",
   "version": "3.8.10"
  },
  "orig_nbformat": 4,
  "vscode": {
   "interpreter": {
    "hash": "e7370f93d1d0cde622a1f8e1c04877d8463912d04d973331ad4851f04de6915a"
   }
  }
 },
 "nbformat": 4,
 "nbformat_minor": 2
}
