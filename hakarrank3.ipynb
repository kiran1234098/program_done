{
 "cells": [
  {
   "cell_type": "markdown",
   "metadata": {},
   "source": [
    "In this challenge, you are required to calculate and print the sum of the elements in an array, keeping in mind that some of those integers may be quite large.\n",
    "\n",
    "Function Description\n",
    "\n",
    "Complete the aVeryBigSum function in the editor below. It must return the sum of all array elements.\n",
    "\n",
    "aVeryBigSum has the following parameter(s):\n",
    "\n",
    "int ar[n]: an array of integers .\n",
    "Return\n",
    "\n",
    "long: the sum of all array elements\n",
    "Input Format\n",
    "\n",
    "The first line of the input consists of an integer .\n",
    "The next line contains  space-separated integers contained in the array.\n",
    "\n",
    "Output Format\n",
    "\n",
    "Return the integer sum of the elements in the array.\n",
    "\n",
    "Constraints\n",
    "\n",
    "\n",
    "Sample Input\n",
    "\n",
    "5\n",
    "1000000001 1000000002 1000000003 1000000004 1000000005\n",
    "Output\n",
    "\n",
    "5000000015\n",
    "Note:\n",
    "\n",
    "The range of the 32-bit integer is .\n",
    "When we add several integer values, the resulting sum might exceed the above range. You might need to use long int C/C++/Java to store such sums."
   ]
  },
  {
   "cell_type": "code",
   "execution_count": 1,
   "metadata": {},
   "outputs": [
    {
     "data": {
      "text/plain": [
       "20"
      ]
     },
     "execution_count": 1,
     "metadata": {},
     "output_type": "execute_result"
    }
   ],
   "source": [
    "def aVeryBigSum(ar):\n",
    "    # Write your code here\n",
    "    sum=0\n",
    "    for i in ar:\n",
    "        sum=sum+i\n",
    "    return sum    \n",
    "\n",
    "aVeryBigSum([5,7,8])"
   ]
  }
 ],
 "metadata": {
  "kernelspec": {
   "display_name": "Python 3.8.10 64-bit",
   "language": "python",
   "name": "python3"
  },
  "language_info": {
   "codemirror_mode": {
    "name": "ipython",
    "version": 3
   },
   "file_extension": ".py",
   "mimetype": "text/x-python",
   "name": "python",
   "nbconvert_exporter": "python",
   "pygments_lexer": "ipython3",
   "version": "3.8.10"
  },
  "orig_nbformat": 4,
  "vscode": {
   "interpreter": {
    "hash": "e7370f93d1d0cde622a1f8e1c04877d8463912d04d973331ad4851f04de6915a"
   }
  }
 },
 "nbformat": 4,
 "nbformat_minor": 2
}
