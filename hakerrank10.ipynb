{
 "cells": [
  {
   "cell_type": "markdown",
   "metadata": {},
   "source": [
    "Given five positive integers, find the minimum and maximum values that can be calculated by summing exactly four of the five integers. Then print the respective minimum and maximum values as a single line of two space-separated long integers.\n",
    "\n",
    "Example\n",
    "\n",
    "The minimum sum is  and the maximum sum is . The function prints\n",
    "\n",
    "16 24\n",
    "Function Description\n",
    "\n",
    "Complete the miniMaxSum function in the editor below.\n",
    "\n",
    "miniMaxSum has the following parameter(s):\n",
    "\n",
    "arr: an array of  integers\n",
    "Print\n",
    "\n",
    "Print two space-separated integers on one line: the minimum sum and the maximum sum of  of  elements.\n",
    "\n",
    "Input Format\n",
    "\n",
    "A single line of five space-separated integers.\n",
    "\n",
    "Constraints\n",
    "\n",
    "\n",
    "Output Format\n",
    "\n",
    "Print two space-separated long integers denoting the respective minimum and maximum values that can be calculated by summing exactly four of the five integers. (The output can be greater than a 32 bit integer.)\n",
    "\n",
    "Sample Input\n",
    "\n",
    "1 2 3 4 5\n",
    "Sample Output\n",
    "\n",
    "10 14\n",
    "Explanation\n",
    "\n",
    "The numbers are , , , , and . Calculate the following sums using four of the five integers:\n",
    "\n",
    "Sum everything except , the sum is .\n",
    "Sum everything except , the sum is .\n",
    "Sum everything except , the sum is .\n",
    "Sum everything except , the sum is .\n",
    "Sum everything except , the sum is .\n",
    "Hints: Beware of integer overflow! Use 64-bit Integer.\n",
    "\n",
    "Need help to get started? Try the Solve Me First problem"
   ]
  },
  {
   "cell_type": "code",
   "execution_count": 23,
   "metadata": {},
   "outputs": [
    {
     "name": "stdout",
     "output_type": "stream",
     "text": [
      "20 20\n"
     ]
    }
   ],
   "source": [
    "a=[5,5,5,5,5]\n",
    "\n",
    "def miniMaxSum(arr):\n",
    "    # Write your code here\n",
    "    b=[]\n",
    "    c=len(arr)\n",
    "    for i in range(c):\n",
    "        \n",
    "        sum=0\n",
    "        for j in range(c):\n",
    "            if i==j:\n",
    "                \n",
    "                continue\n",
    "            else:\n",
    "                \n",
    "           \n",
    "                sum=sum+arr[j]\n",
    "        b.append(sum)\n",
    "           \n",
    "\n",
    "  \n",
    "    e=min(b)\n",
    "    d=max(b)\n",
    "    print(e,d)\n",
    "\n",
    "miniMaxSum(a)\n"
   ]
  }
 ],
 "metadata": {
  "kernelspec": {
   "display_name": "Python 3.8.10 64-bit",
   "language": "python",
   "name": "python3"
  },
  "language_info": {
   "codemirror_mode": {
    "name": "ipython",
    "version": 3
   },
   "file_extension": ".py",
   "mimetype": "text/x-python",
   "name": "python",
   "nbconvert_exporter": "python",
   "pygments_lexer": "ipython3",
   "version": "3.8.10"
  },
  "orig_nbformat": 4,
  "vscode": {
   "interpreter": {
    "hash": "e7370f93d1d0cde622a1f8e1c04877d8463912d04d973331ad4851f04de6915a"
   }
  }
 },
 "nbformat": 4,
 "nbformat_minor": 2
}
