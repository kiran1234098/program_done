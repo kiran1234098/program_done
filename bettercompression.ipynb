{
 "cells": [
  {
   "cell_type": "markdown",
   "metadata": {},
   "source": [
    "better compression"
   ]
  },
  {
   "cell_type": "code",
   "execution_count": 32,
   "metadata": {},
   "outputs": [
    {
     "name": "stdout",
     "output_type": "stream",
     "text": [
      "d13b22c25a12p13\n"
     ]
    }
   ],
   "source": [
    " import re\n",
    " a='d12b22c13d1c12a12p13'\n",
    " res = re.split('(\\d+)', a)\n",
    " res.pop()\n",
    " t=len(res)\n",
    " p=''\n",
    " for i in range(t):\n",
    "    if res[i].isalpha():\n",
    "        \n",
    "        count=int(res[i+1])\n",
    "        for j in range(i+2,t,1) :\n",
    "            if res[i]==res[j] :\n",
    "               count=count+int(res[j+1])\n",
    "        if res[i] not in p:\n",
    "           p=p+res[i]+str(count)\n",
    "        \n",
    "    count=0\n",
    "\n",
    " print(p)    "
   ]
  }
 ],
 "metadata": {
  "kernelspec": {
   "display_name": "Python 3.8.10 64-bit",
   "language": "python",
   "name": "python3"
  },
  "language_info": {
   "codemirror_mode": {
    "name": "ipython",
    "version": 3
   },
   "file_extension": ".py",
   "mimetype": "text/x-python",
   "name": "python",
   "nbconvert_exporter": "python",
   "pygments_lexer": "ipython3",
   "version": "3.8.10"
  },
  "orig_nbformat": 4,
  "vscode": {
   "interpreter": {
    "hash": "e7370f93d1d0cde622a1f8e1c04877d8463912d04d973331ad4851f04de6915a"
   }
  }
 },
 "nbformat": 4,
 "nbformat_minor": 2
}
