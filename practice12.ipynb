{
 "cells": [
  {
   "cell_type": "code",
   "execution_count": 2,
   "metadata": {},
   "outputs": [
    {
     "name": "stdout",
     "output_type": "stream",
     "text": [
      "2\n",
      "3\n",
      "1\n"
     ]
    }
   ],
   "source": [
    "sample_list = [\"a\", \"ab\", \"a\", \"abc\", \"ab\", \"ab\"]\n",
    "print(sample_list.count(\"a\"))\n",
    "print(sample_list.count(\"ab\"))\n",
    "print(sample_list.count('abc'))"
   ]
  },
  {
   "cell_type": "code",
   "execution_count": 3,
   "metadata": {},
   "outputs": [
    {
     "name": "stdout",
     "output_type": "stream",
     "text": [
      "ab has occurred 3 times\n"
     ]
    }
   ],
   "source": [
    "def countElement(sample_list,element):\n",
    "    return sample_list.count(element)\n",
    "\n",
    "sample_list = [\"a\", \"ab\", \"a\", \"abc\", \"ab\", \"ab\"]\n",
    "element = \"ab\"\n",
    "print('{} has occurred {} times'.format(element,countElement(sample_list,element)))\n"
   ]
  },
  {
   "cell_type": "code",
   "execution_count": 5,
   "metadata": {},
   "outputs": [
    {
     "name": "stdout",
     "output_type": "stream",
     "text": [
      "2\n"
     ]
    }
   ],
   "source": [
    "sample_list = [\"a\", \"ab\", \"a\", \"abc\", \"ab\", \"ab\"]\n",
    "import operator as op \n",
    "print(op.countOf(sample_list,\"a\"))"
   ]
  },
  {
   "cell_type": "code",
   "execution_count": 7,
   "metadata": {},
   "outputs": [
    {
     "name": "stdout",
     "output_type": "stream",
     "text": [
      "Counter({'ab': 3, 'a': 2, 'abc': 1})\n",
      "2\n"
     ]
    }
   ],
   "source": [
    "sample_list = [\"a\", \"ab\", \"a\", \"abc\", \"ab\", \"ab\"]\n",
    "from collections import Counter\n",
    "print(Counter(sample_list))\n",
    "\n",
    "c=Counter(sample_list)\n",
    "print(c['a'])"
   ]
  },
  {
   "cell_type": "code",
   "execution_count": 8,
   "metadata": {},
   "outputs": [
    {
     "name": "stdout",
     "output_type": "stream",
     "text": [
      "{'a': 2, 'ab': 3, 'abc': 1}\n"
     ]
    }
   ],
   "source": [
    "sample_list = [\"a\", \"ab\", \"a\", \"abc\", \"ab\", \"ab\"]\n",
    "\n",
    "def countOccurrence(a):\n",
    "    k={}\n",
    "    for j in a:\n",
    "        if j in k:\n",
    "            k[j]+=1\n",
    "        else:\n",
    "            k[j]=1\n",
    "    return k\n",
    "\n",
    "print(countOccurrence(sample_list))\n"
   ]
  }
 ],
 "metadata": {
  "kernelspec": {
   "display_name": "Python 3.8.10 64-bit",
   "language": "python",
   "name": "python3"
  },
  "language_info": {
   "codemirror_mode": {
    "name": "ipython",
    "version": 3
   },
   "file_extension": ".py",
   "mimetype": "text/x-python",
   "name": "python",
   "nbconvert_exporter": "python",
   "pygments_lexer": "ipython3",
   "version": "3.8.10"
  },
  "orig_nbformat": 4,
  "vscode": {
   "interpreter": {
    "hash": "e7370f93d1d0cde622a1f8e1c04877d8463912d04d973331ad4851f04de6915a"
   }
  }
 },
 "nbformat": 4,
 "nbformat_minor": 2
}
