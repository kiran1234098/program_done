{
 "cells": [
  {
   "cell_type": "code",
   "execution_count": 3,
   "metadata": {},
   "outputs": [
    {
     "name": "stdout",
     "output_type": "stream",
     "text": [
      "let's do work from\n"
     ]
    }
   ],
   "source": [
    "raining = True\n",
    "if raining:\n",
    "    print(\"let's do work from\")\n",
    "\n",
    "else:\n",
    "    print(\"left's go to the office\")"
   ]
  },
  {
   "cell_type": "code",
   "execution_count": 5,
   "metadata": {},
   "outputs": [
    {
     "name": "stdout",
     "output_type": "stream",
     "text": [
      "lets go to home\n"
     ]
    }
   ],
   "source": [
    "raining = False\n",
    "if raining:\n",
    "    print(\"left's go to the office\")\n",
    "\n",
    "else:\n",
    "    print(\"lets go to home\")"
   ]
  },
  {
   "cell_type": "code",
   "execution_count": 6,
   "metadata": {},
   "outputs": [
    {
     "ename": "IndentationError",
     "evalue": "expected an indented block (307261763.py, line 3)",
     "output_type": "error",
     "traceback": [
      "\u001b[0;36m  Cell \u001b[0;32mIn[6], line 3\u001b[0;36m\u001b[0m\n\u001b[0;31m    print(\"left's go to the office\")\u001b[0m\n\u001b[0m    ^\u001b[0m\n\u001b[0;31mIndentationError\u001b[0m\u001b[0;31m:\u001b[0m expected an indented block\n"
     ]
    }
   ],
   "source": [
    "raining = False\n",
    "if raining:\n",
    "print(\"left's go to the office\")\n",
    "\n",
    "else:\n",
    "    print(\"lets go to home\")"
   ]
  },
  {
   "cell_type": "code",
   "execution_count": 7,
   "metadata": {},
   "outputs": [
    {
     "name": "stdout",
     "output_type": "stream",
     "text": [
      "lets go to home\n"
     ]
    }
   ],
   "source": [
    "raining = False\n",
    "if raining:\n",
    " print(\"left's go to the office\")\n",
    "\n",
    "else:\n",
    "    print(\"lets go to home\")"
   ]
  },
  {
   "cell_type": "code",
   "execution_count": 8,
   "metadata": {},
   "outputs": [
    {
     "ename": "IndentationError",
     "evalue": "unexpected indent (2020524647.py, line 4)",
     "output_type": "error",
     "traceback": [
      "\u001b[0;36m  Cell \u001b[0;32mIn[8], line 4\u001b[0;36m\u001b[0m\n\u001b[0;31m    print(\"left's go to the office\")\u001b[0m\n\u001b[0m    ^\u001b[0m\n\u001b[0;31mIndentationError\u001b[0m\u001b[0;31m:\u001b[0m unexpected indent\n"
     ]
    }
   ],
   "source": [
    "raining = False\n",
    "if raining:\n",
    " print(\"left's go to the office\")\n",
    "  print(\"left's go to the office\")\n",
    "\n",
    "else:\n",
    "    print(\"lets go to home\")"
   ]
  },
  {
   "cell_type": "code",
   "execution_count": 9,
   "metadata": {},
   "outputs": [
    {
     "name": "stdout",
     "output_type": "stream",
     "text": [
      "lets go to home\n"
     ]
    }
   ],
   "source": [
    "raining = False\n",
    "if raining:\n",
    "  print(\"left's go to the office\")\n",
    "  print(\"left's go to the office\")\n",
    "\n",
    "else:\n",
    " print(\"lets go to home\")"
   ]
  },
  {
   "cell_type": "code",
   "execution_count": 14,
   "metadata": {},
   "outputs": [
    {
     "name": "stdout",
     "output_type": "stream",
     "text": [
      "since its not raining\n",
      "left's go to the office\n"
     ]
    }
   ],
   "source": [
    "raining = True\n",
    "if not raining:\n",
    "        print(\"since its raining\")\n",
    "        print(\"lets go to home\")\n",
    "\n",
    "\n",
    "else:\n",
    "  print(\"since its not raining\")\n",
    "  print(\"left's go to the office\")\n",
    "    "
   ]
  },
  {
   "cell_type": "code",
   "execution_count": 15,
   "metadata": {},
   "outputs": [
    {
     "name": "stdout",
     "output_type": "stream",
     "text": [
      "since its raining\n",
      "lets go to home\n"
     ]
    }
   ],
   "source": [
    "raining = False\n",
    "if not raining:\n",
    "        print(\"since its raining\")\n",
    "        print(\"lets go to home\")\n",
    "\n",
    "\n",
    "else:\n",
    "  print(\"since its not raining\")\n",
    "  print(\"left's go to the office\")"
   ]
  },
  {
   "cell_type": "code",
   "execution_count": 16,
   "metadata": {},
   "outputs": [
    {
     "name": "stdout",
     "output_type": "stream",
     "text": [
      "since class started........\n",
      "let's concentrate\n"
     ]
    }
   ],
   "source": [
    "class_started = True\n",
    "if class_started:\n",
    "    print(\"since class started........\")\n",
    "    print(\"let's concentrate\")\n",
    "\n",
    "else :\n",
    "    print(\"since class not started.......\")\n",
    "    print(\"let's revise\")\n",
    "    "
   ]
  },
  {
   "cell_type": "code",
   "execution_count": 17,
   "metadata": {},
   "outputs": [
    {
     "name": "stdout",
     "output_type": "stream",
     "text": [
      "since class not started.......\n",
      "let's revise\n"
     ]
    }
   ],
   "source": [
    "class_started = False\n",
    "if class_started:\n",
    "    print(\"since class started........\")\n",
    "    print(\"let's concentrate\")\n",
    "\n",
    "else :\n",
    "    print(\"since class not started.......\")\n",
    "    print(\"let's revise\")\n",
    "    "
   ]
  },
  {
   "cell_type": "markdown",
   "metadata": {},
   "source": [
    "it will true for every string even \"false\" or \"0\"\n",
    "only not true for nothing"
   ]
  },
  {
   "cell_type": "code",
   "execution_count": 27,
   "metadata": {},
   "outputs": [
    {
     "name": "stdout",
     "output_type": "stream",
     "text": [
      "since class not started.......\n",
      "let's revise\n"
     ]
    }
   ],
   "source": [
    "class_started = bool(input(\"enter class started or not\"))\n",
    "if class_started:\n",
    "    print(\"since class started........\")\n",
    "    print(\"let's concentrate\")\n",
    "\n",
    "else :\n",
    "    print(\"since class not started.......\")\n",
    "    print(\"let's revise\")\n",
    "    "
   ]
  },
  {
   "cell_type": "code",
   "execution_count": 31,
   "metadata": {},
   "outputs": [
    {
     "name": "stdout",
     "output_type": "stream",
     "text": [
      "since class started........\n",
      "let's concentrate\n"
     ]
    }
   ],
   "source": [
    "class_started = False\n",
    "if not class_started:\n",
    "    print(\"since class started........\")\n",
    "    print(\"let's concentrate\")\n",
    "\n",
    "else :\n",
    "    print(\"since class not started.......\")\n",
    "    print(\"let's revise\")\n",
    "    "
   ]
  },
  {
   "cell_type": "code",
   "execution_count": 32,
   "metadata": {},
   "outputs": [
    {
     "name": "stdout",
     "output_type": "stream",
     "text": [
      "its bad dish\n",
      "because vagetable_present False and salt_present False \n"
     ]
    }
   ],
   "source": [
    "vagetable_present = False\n",
    "salt_present = False\n",
    "if vagetable_present and salt_present :\n",
    "    print(\"its good dish\")\n",
    "\n",
    "\n",
    "else:\n",
    "    print(\"its bad dish\")\n",
    "    print(f\"because vagetable_present {vagetable_present} and salt_present {salt_present} \")"
   ]
  },
  {
   "cell_type": "code",
   "execution_count": 33,
   "metadata": {},
   "outputs": [
    {
     "name": "stdout",
     "output_type": "stream",
     "text": [
      "its bad dish\n",
      "because vagetable_present True and salt_present False \n"
     ]
    }
   ],
   "source": [
    "vagetable_present = True\n",
    "salt_present = False\n",
    "if vagetable_present and salt_present :\n",
    "    print(\"its good dish\")\n",
    "\n",
    "\n",
    "else:\n",
    "    print(\"its bad dish\")\n",
    "    print(f\"because vagetable_present {vagetable_present} and salt_present {salt_present} \")"
   ]
  },
  {
   "cell_type": "code",
   "execution_count": 34,
   "metadata": {},
   "outputs": [
    {
     "name": "stdout",
     "output_type": "stream",
     "text": [
      "its bad dish\n",
      "because vagetable_present False and salt_present True \n"
     ]
    }
   ],
   "source": [
    "vagetable_present = False\n",
    "salt_present = True\n",
    "if vagetable_present and salt_present :\n",
    "    print(\"its good dish\")\n",
    "\n",
    "\n",
    "else:\n",
    "    print(\"its bad dish\")\n",
    "    print(f\"because vagetable_present {vagetable_present} and salt_present {salt_present} \")"
   ]
  },
  {
   "cell_type": "code",
   "execution_count": 35,
   "metadata": {},
   "outputs": [
    {
     "name": "stdout",
     "output_type": "stream",
     "text": [
      "its good dish\n"
     ]
    }
   ],
   "source": [
    "vagetable_present = True\n",
    "salt_present = True\n",
    "if vagetable_present and salt_present :\n",
    "    print(\"its good dish\")\n",
    "\n",
    "\n",
    "else:\n",
    "    print(\"its bad dish\")\n",
    "    print(f\"because vagetable_present {vagetable_present} and salt_present {salt_present} \")"
   ]
  },
  {
   "cell_type": "code",
   "execution_count": 38,
   "metadata": {},
   "outputs": [
    {
     "name": "stdout",
     "output_type": "stream",
     "text": [
      "i can't ride because bike False and car False\n"
     ]
    }
   ],
   "source": [
    "I_own_car = False\n",
    "I_own_bike = False\n",
    "if I_own_car or I_own_bike :\n",
    "    print(\"i can ride 100km \")\n",
    "\n",
    "else:\n",
    "    print(f\"i can't ride because bike {I_own_bike} and car {I_own_car}\")\n",
    "\n"
   ]
  },
  {
   "cell_type": "code",
   "execution_count": 39,
   "metadata": {},
   "outputs": [
    {
     "name": "stdout",
     "output_type": "stream",
     "text": [
      "i can ride 100km \n"
     ]
    }
   ],
   "source": [
    "I_own_car = True\n",
    "I_own_bike = False\n",
    "if I_own_car or I_own_bike :\n",
    "    print(\"i can ride 100km \")\n",
    "\n",
    "else:\n",
    "    print(f\"i can't ride because bike {I_own_bike} and car {I_own_car}\")\n"
   ]
  },
  {
   "cell_type": "code",
   "execution_count": 40,
   "metadata": {},
   "outputs": [
    {
     "name": "stdout",
     "output_type": "stream",
     "text": [
      "i can ride 100km \n"
     ]
    }
   ],
   "source": [
    "I_own_car = False\n",
    "I_own_bike = True\n",
    "if I_own_car or I_own_bike :\n",
    "    print(\"i can ride 100km \")\n",
    "\n",
    "else:\n",
    "    print(f\"i can't ride because bike {I_own_bike} and car {I_own_car}\")\n"
   ]
  },
  {
   "cell_type": "code",
   "execution_count": 41,
   "metadata": {},
   "outputs": [
    {
     "name": "stdout",
     "output_type": "stream",
     "text": [
      "i can ride 100km \n"
     ]
    }
   ],
   "source": [
    "I_own_car = True\n",
    "I_own_bike = True\n",
    "if I_own_car or I_own_bike :\n",
    "    print(\"i can ride 100km \")\n",
    "\n",
    "else:\n",
    "    print(f\"i can't ride because bike {I_own_bike} and car {I_own_car}\")"
   ]
  },
  {
   "cell_type": "code",
   "execution_count": 46,
   "metadata": {},
   "outputs": [
    {
     "name": "stdout",
     "output_type": "stream",
     "text": [
      "attantance criteria met? True\n",
      "assignment criteria met? True\n",
      "the Strudent is eligible to appear in final exam\n"
     ]
    }
   ],
   "source": [
    "attandance = 70 \n",
    "assignment_submited = 40\n",
    "print(\"attantance criteria met?\",attandance >=70)\n",
    "print(\"assignment criteria met?\", assignment_submited>=40)\n",
    "\n",
    "if attandance >= 70 and assignment_submited >=40:\n",
    "    print(\"the Strudent is eligible to appear in final exam\")\n",
    "\n",
    "else:\n",
    "    print(\"can not apear in exam\")    \n"
   ]
  },
  {
   "cell_type": "code",
   "execution_count": 47,
   "metadata": {},
   "outputs": [
    {
     "name": "stdout",
     "output_type": "stream",
     "text": [
      "attantance criteria met? True\n",
      "assignment criteria met? False\n",
      "can not apear in exam\n"
     ]
    }
   ],
   "source": [
    "attandance = 70 \n",
    "assignment_submited = 40\n",
    "print(\"attantance criteria met?\",attandance >=70)\n",
    "print(\"assignment criteria met?\", assignment_submited>=70)\n",
    "\n",
    "if attandance >= 70 and assignment_submited>=70:\n",
    "    print(\"the Strudent is eligible to appear in final exam\")\n",
    "\n",
    "else:\n",
    "    print(\"can not apear in exam\")"
   ]
  },
  {
   "cell_type": "code",
   "execution_count": 56,
   "metadata": {},
   "outputs": [
    {
     "name": "stdout",
     "output_type": "stream",
     "text": [
      "Ask from a dad for debit or credit card?\n",
      "cash on delivery?\n"
     ]
    }
   ],
   "source": [
    "own_credit_card = False\n",
    "own_debit_card = True\n",
    "Net_banking = True\n",
    "\n",
    "if own_credit_card and own_debit_card and Net_banking:\n",
    "    print(\"proceed further for payment\")\n",
    "else:\n",
    "    print(\"Ask from a dad for debit or credit card?\")\n",
    "    print(\"cash on delivery?\")"
   ]
  },
  {
   "cell_type": "markdown",
   "metadata": {},
   "source": [
    "if attendence is more than 75% and assignment completed more than 70% OR the student is sports player then only the student is eligible for exam\n",
    "\n",
    "if you are sports player then you will get grace marks = +10"
   ]
  },
  {
   "cell_type": "code",
   "execution_count": 69,
   "metadata": {},
   "outputs": [
    {
     "name": "stdout",
     "output_type": "stream",
     "text": [
      "True\n",
      "the student is eligible for exam\n",
      " you are sports player thats why you will get grace marks = +10\n"
     ]
    }
   ],
   "source": [
    "attandance = int(input(\" what persentage u got in class\"))\n",
    "assignment_submited =int(input(\"how many percentage have completed assignment\"))\n",
    "sport_player =bool(int(input(\"enter 1 if ur sport person other wise 0 \")))\n",
    "print(sport_player)\n",
    "\n",
    "if attandance >75 and assignment_submited > 70 or sport_player:\n",
    "    print(\"the student is eligible for exam\")\n",
    "    if sport_player:\n",
    "              print(\" you are sports player thats why you will get grace marks = +10\")\n",
    "\n",
    "else:\n",
    "       print(\"the student is not eligible for exam\") \n"
   ]
  },
  {
   "cell_type": "code",
   "execution_count": 73,
   "metadata": {},
   "outputs": [
    {
     "name": "stdout",
     "output_type": "stream",
     "text": [
      "9801248 9801248\n"
     ]
    }
   ],
   "source": [
    "a=1\n",
    "b=1\n",
    "if a  is b:\n",
    "    print(id(a),id(b))\n",
    "\n",
    "else:\n",
    "    print(id(a),id(b))    "
   ]
  },
  {
   "cell_type": "code",
   "execution_count": 76,
   "metadata": {},
   "outputs": [
    {
     "name": "stdout",
     "output_type": "stream",
     "text": [
      "this 9801248 9801280\n"
     ]
    }
   ],
   "source": [
    "a=1\n",
    "b=2\n",
    "if a  is not b:\n",
    "    print(\"this\", id(a),id(b))\n",
    "\n",
    "else:\n",
    "    print(id(a),id(b))"
   ]
  },
  {
   "cell_type": "code",
   "execution_count": 79,
   "metadata": {},
   "outputs": [
    {
     "name": "stdout",
     "output_type": "stream",
     "text": [
      "not 139989044833664 139989044239936\n"
     ]
    }
   ],
   "source": [
    "a=[1,2,3]\n",
    "b=[1,2,3]\n",
    "if a  is  b:\n",
    "    print(\"this\", id(a),id(b))\n",
    "\n",
    "else:\n",
    "    print(\"not\",id(a),id(b))"
   ]
  },
  {
   "cell_type": "code",
   "execution_count": 80,
   "metadata": {},
   "outputs": [
    {
     "name": "stdout",
     "output_type": "stream",
     "text": [
      "not 139989044638464 139989044231616\n"
     ]
    }
   ],
   "source": [
    "a=thistuple = (\"apple\", \"banana\", \"cherry\")\n",
    "b=thistuple = (\"apple\", \"banana\", \"cherry\")\n",
    "if a  is  b:\n",
    "    print(\"this\", id(a),id(b))\n",
    "\n",
    "else:\n",
    "    print(\"not\",id(a),id(b))"
   ]
  }
 ],
 "metadata": {
  "kernelspec": {
   "display_name": "Python 3.8.10 64-bit",
   "language": "python",
   "name": "python3"
  },
  "language_info": {
   "codemirror_mode": {
    "name": "ipython",
    "version": 3
   },
   "file_extension": ".py",
   "mimetype": "text/x-python",
   "name": "python",
   "nbconvert_exporter": "python",
   "pygments_lexer": "ipython3",
   "version": "3.8.10"
  },
  "orig_nbformat": 4,
  "vscode": {
   "interpreter": {
    "hash": "e7370f93d1d0cde622a1f8e1c04877d8463912d04d973331ad4851f04de6915a"
   }
  }
 },
 "nbformat": 4,
 "nbformat_minor": 2
}
