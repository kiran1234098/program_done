{
 "cells": [
  {
   "cell_type": "code",
   "execution_count": 48,
   "metadata": {},
   "outputs": [
    {
     "name": "stdout",
     "output_type": "stream",
     "text": [
      " \n",
      "#  \n",
      "# #  \n",
      "# # #  \n",
      "# # # #  \n",
      "# # # # #  \n"
     ]
    }
   ],
   "source": [
    "n=6\n",
    "\n",
    "\n",
    "for i in range(n):\n",
    "   \n",
    "        for j in range(i):\n",
    "            print(\"#\", end=' ')\n",
    "        print(\" \")\n",
    "       \n",
    "\n",
    " \n"
   ]
  },
  {
   "cell_type": "code",
   "execution_count": 50,
   "metadata": {},
   "outputs": [
    {
     "name": "stdout",
     "output_type": "stream",
     "text": [
      "* \n",
      "* * \n",
      "* * * \n",
      "* * * * \n",
      "* * * * * \n",
      "* * * * * * \n"
     ]
    }
   ],
   "source": [
    "n=6\n",
    "for i in range(0,n):\n",
    "    for i in range(0,i+1):\n",
    "        print(\"*\",end=\" \")\n",
    "\n",
    "    print(\"\\r\")    "
   ]
  },
  {
   "cell_type": "code",
   "execution_count": 51,
   "metadata": {},
   "outputs": [
    {
     "name": "stdout",
     "output_type": "stream",
     "text": [
      " *\n",
      " * *\n",
      " * * *\n",
      " * * * *\n",
      " * * * * *\n",
      " * * * * * *\n"
     ]
    }
   ],
   "source": [
    "n=6\n",
    "t=[]\n",
    "for i in range(1,n+1):\n",
    "    t.append(\" *\"*i)\n",
    "print(\"\\n\".join(t))   \n",
    "\n"
   ]
  },
  {
   "cell_type": "code",
   "execution_count": 53,
   "metadata": {},
   "outputs": [
    {
     "name": "stdout",
     "output_type": "stream",
     "text": [
      "*\n",
      "**\n",
      "***\n",
      "****\n",
      "*****\n",
      "******\n"
     ]
    }
   ],
   "source": [
    "def p(n):\n",
    "    if n==0:\n",
    "        return\n",
    "    else:\n",
    "        p(n-1)  \n",
    "        print(\"*\"*n) \n",
    "\n",
    "p(6)"
   ]
  },
  {
   "cell_type": "code",
   "execution_count": 72,
   "metadata": {},
   "outputs": [
    {
     "name": "stdout",
     "output_type": "stream",
     "text": [
      "     \n",
      "    *\n",
      "   **\n",
      "  ***\n",
      " ****\n",
      "*****\n"
     ]
    }
   ],
   "source": [
    "n=6\n",
    "k=5\n",
    "for i in range(n) :\n",
    "    for j in range(k):\n",
    "        print(\" \",end='')\n",
    "    for s in range(i):\n",
    "        print(\"*\",end=\"\") \n",
    "    print(\"\\r\")\n",
    "    k=k-1     \n"
   ]
  }
 ],
 "metadata": {
  "kernelspec": {
   "display_name": "Python 3.8.10 64-bit",
   "language": "python",
   "name": "python3"
  },
  "language_info": {
   "codemirror_mode": {
    "name": "ipython",
    "version": 3
   },
   "file_extension": ".py",
   "mimetype": "text/x-python",
   "name": "python",
   "nbconvert_exporter": "python",
   "pygments_lexer": "ipython3",
   "version": "3.8.10"
  },
  "orig_nbformat": 4,
  "vscode": {
   "interpreter": {
    "hash": "e7370f93d1d0cde622a1f8e1c04877d8463912d04d973331ad4851f04de6915a"
   }
  }
 },
 "nbformat": 4,
 "nbformat_minor": 2
}
