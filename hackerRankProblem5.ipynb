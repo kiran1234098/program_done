{
 "cells": [
  {
   "cell_type": "markdown",
   "metadata": {},
   "source": [
    "There is a large pile of socks that must be paired by color. Given an array of integers representing the color of each sock, determine how many pairs of socks with matching colors there are.\n",
    "\n",
    "Example\n",
    "\n",
    "\n",
    "There is one pair of color  and one of color . There are three odd socks left, one of each color. The number of pairs is .\n",
    "\n",
    "Function Description\n",
    "\n",
    "Complete the sockMerchant function in the editor below.\n",
    "\n",
    "sockMerchant has the following parameter(s):\n",
    "\n",
    "int n: the number of socks in the pile\n",
    "int ar[n]: the colors of each sock\n",
    "Returns\n",
    "\n",
    "int: the number of pairs\n",
    "Input Format\n",
    "\n",
    "The first line contains an integer , the number of socks represented in .\n",
    "The second line contains  space-separated integers, , the colors of the socks in the pile.\n",
    "\n",
    "Constraints\n",
    "\n",
    " where \n",
    "Sample Input\n",
    "\n",
    "STDIN                       Function\n",
    "-----                       --------\n",
    "9                           n = 9\n",
    "10 20 20 10 10 30 50 10 20  ar = [10, 20, 20, 10, 10, 30, 50, 10, 20]\n",
    "Sample Output\n",
    "\n",
    "3\n",
    "Explanation\n",
    "\n",
    "sock.png\n",
    "\n",
    "There are three pairs of socks."
   ]
  },
  {
   "cell_type": "code",
   "execution_count": null,
   "metadata": {},
   "outputs": [],
   "source": [
    "def sockMerchant(n, ar):\n",
    "    # Write your code here\n",
    "    p=0\n",
    "    def countOccurrence(a):\n",
    "        k = {}\n",
    "        for j in a:\n",
    "            if j in k:\n",
    "                k[j] +=1\n",
    "            else:\n",
    "                k[j] =1\n",
    "        return k\n",
    "    l=countOccurrence(ar)\n",
    "    #print(l)\n",
    "    for i in l:\n",
    "        if l[i]%2!=0:\n",
    "            \n",
    "            p=p+l[i]%2\n",
    "    r=len(ar) -p  \n",
    "    s=r//2\n",
    "    return s   "
   ]
  }
 ],
 "metadata": {
  "kernelspec": {
   "display_name": "Python 3.8.10 64-bit",
   "language": "python",
   "name": "python3"
  },
  "language_info": {
   "codemirror_mode": {
    "name": "ipython",
    "version": 3
   },
   "file_extension": ".py",
   "mimetype": "text/x-python",
   "name": "python",
   "nbconvert_exporter": "python",
   "pygments_lexer": "ipython3",
   "version": "3.8.10"
  },
  "orig_nbformat": 4,
  "vscode": {
   "interpreter": {
    "hash": "e7370f93d1d0cde622a1f8e1c04877d8463912d04d973331ad4851f04de6915a"
   }
  }
 },
 "nbformat": 4,
 "nbformat_minor": 2
}
