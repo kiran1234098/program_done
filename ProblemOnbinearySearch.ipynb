{
 "cells": [
  {
   "cell_type": "markdown",
   "metadata": {},
   "source": [
    "2d matrix which is sorted row wise"
   ]
  },
  {
   "cell_type": "code",
   "execution_count": 10,
   "metadata": {},
   "outputs": [
    {
     "name": "stdout",
     "output_type": "stream",
     "text": [
      "False\n"
     ]
    }
   ],
   "source": [
    "##function definition\n",
    "def binearysearchinTwo_D_Array(matrix,target):\n",
    "    #len of row\n",
    "    m=len(matrix)\n",
    "    if m==0:\n",
    "        return False\n",
    "    #len of column\n",
    "    n=len(matrix[0] )\n",
    "\n",
    "    #other code\n",
    "    left ,right = 0,m*n-1\n",
    "    \n",
    "    while left <=right:\n",
    "\n",
    "        mid = left + (right-left)  //2\n",
    "        mid_elemnt=matrix[mid//n][mid%n]\n",
    "\n",
    "        if mid_elemnt==target:\n",
    "            return True\n",
    "        elif mid_elemnt>target :\n",
    "            right=mid-1\n",
    "        else:\n",
    "            left=mid+1  \n",
    "    return False          \n",
    "\n",
    "\n",
    "## drive code\n",
    "matrix= [[1,2,3,4],[5,6,7,8],[9,10,11,12]]\n",
    "target =55\n",
    "# function calling\n",
    "result=binearysearchinTwo_D_Array(matrix,target)\n",
    "print(result)\n"
   ]
  }
 ],
 "metadata": {
  "kernelspec": {
   "display_name": "Python 3.8.10 64-bit",
   "language": "python",
   "name": "python3"
  },
  "language_info": {
   "codemirror_mode": {
    "name": "ipython",
    "version": 3
   },
   "file_extension": ".py",
   "mimetype": "text/x-python",
   "name": "python",
   "nbconvert_exporter": "python",
   "pygments_lexer": "ipython3",
   "version": "3.8.10"
  },
  "orig_nbformat": 4,
  "vscode": {
   "interpreter": {
    "hash": "e7370f93d1d0cde622a1f8e1c04877d8463912d04d973331ad4851f04de6915a"
   }
  }
 },
 "nbformat": 4,
 "nbformat_minor": 2
}
