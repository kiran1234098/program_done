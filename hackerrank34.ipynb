{
 "cells": [
  {
   "cell_type": "markdown",
   "metadata": {},
   "source": [
    "Maria plays college basketball and wants to go pro. Each season she maintains a record of her play. She tabulates the number of times she breaks her season record for most points and least points in a game. Points scored in the first game establish her record for the season, and she begins counting from there.\n",
    "\n",
    "Example\n",
    "\n",
    "Scores are in the same order as the games played. She tabulates her results as follows:\n",
    "\n",
    "                                     Count\n",
    "    Game  Score  Minimum  Maximum   Min Max\n",
    "     0      12     12       12       0   0\n",
    "     1      24     12       24       0   1\n",
    "     2      10     10       24       1   1\n",
    "     3      24     10       24       1   1\n",
    "Given the scores for a season, determine the number of times Maria breaks her records for most and least points scored during the season.\n",
    "\n",
    "Function Description\n",
    "\n",
    "Complete the breakingRecords function in the editor below.\n",
    "\n",
    "breakingRecords has the following parameter(s):\n",
    "\n",
    "int scores[n]: points scored per game\n",
    "Returns\n",
    "\n",
    "int[2]: An array with the numbers of times she broke her records. Index  is for breaking most points records, and index  is for breaking least points records.\n",
    "Input Format\n",
    "\n",
    "The first line contains an integer , the number of games.\n",
    "The second line contains  space-separated integers describing the respective values of .\n",
    "\n",
    "Constraints\n",
    "\n",
    "Sample Input 0\n",
    "\n",
    "9\n",
    "10 5 20 20 4 5 2 25 1\n",
    "Sample Output 0\n",
    "\n",
    "2 4\n",
    "Explanation 0\n",
    "\n",
    "The diagram below depicts the number of times Maria broke her best and worst records throughout the season:\n",
    "\n",
    "image\n",
    "\n",
    "She broke her best record twice (after games  and ) and her worst record four times (after games , , , and ), so we print 2 4 as our answer. Note that she did not break her record for best score during game , as her score during that game was not strictly greater than her best record at the time.\n",
    "\n",
    "Sample Input 1\n",
    "\n",
    "10\n",
    "3 4 21 36 10 28 35 5 24 42\n",
    "Sample Output 1\n",
    "\n",
    "4 0\n",
    "Explanation 1\n",
    "\n",
    "The diagram below depicts the number of times Maria broke her best and worst records throughout the season:\n",
    "\n",
    "image\n",
    "\n",
    "She broke her best record four times (after games , , , and ) and her worst record zero times (no score during the season was lower than the one she earned during her first game), so we print 4 0 as our answer."
   ]
  },
  {
   "cell_type": "code",
   "execution_count": null,
   "metadata": {},
   "outputs": [],
   "source": [
    "def breakingRecords(scores):\n",
    "    # Write your code here\n",
    "    h=l=scores[0]\n",
    "    Hcount=Lcount=0\n",
    "    i=1\n",
    "    for i in range(len(scores)):\n",
    "        if scores[i]>h:\n",
    "            h=scores[i]\n",
    "            Hcount=Hcount+1\n",
    "        if scores[i]<l:\n",
    "            l=scores[i]\n",
    "            Lcount=Lcount+1\n",
    "    a=[]\n",
    "    a.append(Hcount)  \n",
    "    a.append(Lcount)\n",
    "    return a      \n",
    "            "
   ]
  }
 ],
 "metadata": {
  "kernelspec": {
   "display_name": "Python 3.8.10 64-bit",
   "language": "python",
   "name": "python3"
  },
  "language_info": {
   "name": "python",
   "version": "3.8.10"
  },
  "orig_nbformat": 4,
  "vscode": {
   "interpreter": {
    "hash": "e7370f93d1d0cde622a1f8e1c04877d8463912d04d973331ad4851f04de6915a"
   }
  }
 },
 "nbformat": 4,
 "nbformat_minor": 2
}
