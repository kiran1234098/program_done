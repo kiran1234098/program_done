{
 "cells": [
  {
   "cell_type": "code",
   "execution_count": 4,
   "metadata": {},
   "outputs": [
    {
     "name": "stdout",
     "output_type": "stream",
     "text": [
      "2\n"
     ]
    }
   ],
   "source": [
    "import logging\n",
    "logging.basicConfig(filename='a.log',level=logging.info)\n",
    "try:\n",
    "\n",
    "    a =int(input(\"enter a number\"))\n",
    "    logging.info(f'checking name{a} ....')\n",
    "    b =int(input(\"enter a number\"))\n",
    "    logging.info(f'checking name{b} ....')\n",
    "except:\n",
    "    print(\"please enter integer\")\n",
    "else:    \n",
    "    c=a+b\n",
    "    print(c)"
   ]
  },
  {
   "cell_type": "code",
   "execution_count": 3,
   "metadata": {},
   "outputs": [
    {
     "name": "stdout",
     "output_type": "stream",
     "text": [
      "50\n"
     ]
    }
   ],
   "source": [
    "import logging\n",
    "logging.basicConfig(filename='app.log', filemode='w', format='%(name)s - %(levelname)s - %(message)s')\n",
    "def max_f(a,b):\n",
    "    logging.info('in fun ')\n",
    "    if a>b:\n",
    "        print(\"maximum is :\",a)\n",
    "    else:\n",
    "        print(b)    \n",
    "try :\n",
    "    logging.info('start')\n",
    "    a=int(input(\"enter a integer\"))\n",
    "    logging.info(f'value {a}')\n",
    "    b=int(input(\"enter a integer\"))\n",
    "    logging.info(f'value{b}')\n",
    "    max_f(a,b)  \n",
    "except ValueError as e:\n",
    "    logging.info('error')\n",
    "    print(e)    "
   ]
  },
  {
   "cell_type": "code",
   "execution_count": 18,
   "metadata": {},
   "outputs": [
    {
     "name": "stdout",
     "output_type": "stream",
     "text": [
      "120\n"
     ]
    }
   ],
   "source": [
    "#factorial\n",
    "a=5\n",
    "i=1\n",
    "while a>0:\n",
    "       i=i*a\n",
    "       a=a-1\n",
    "\n",
    "print(i)\n"
   ]
  },
  {
   "cell_type": "code",
   "execution_count": 20,
   "metadata": {},
   "outputs": [
    {
     "name": "stdout",
     "output_type": "stream",
     "text": [
      "720\n"
     ]
    }
   ],
   "source": [
    "def fac(n,r):\n",
    "    if n==0:\n",
    "        print(r)\n",
    "\n",
    "    else:\n",
    "        fac(n=n-1,r=r*n) #4,3. \n",
    "\n",
    "fac(6,1)   "
   ]
  },
  {
   "cell_type": "code",
   "execution_count": 21,
   "metadata": {},
   "outputs": [
    {
     "name": "stdout",
     "output_type": "stream",
     "text": [
      "120\n"
     ]
    }
   ],
   "source": [
    "import math\n",
    "print(math.factorial(5))"
   ]
  },
  {
   "cell_type": "code",
   "execution_count": 22,
   "metadata": {},
   "outputs": [
    {
     "name": "stdout",
     "output_type": "stream",
     "text": [
      "40\n"
     ]
    }
   ],
   "source": [
    "p=2000\n",
    "r=2\n",
    "t=1\n",
    "print((p*r*t)//100)"
   ]
  }
 ],
 "metadata": {
  "kernelspec": {
   "display_name": "Python 3.8.10 64-bit",
   "language": "python",
   "name": "python3"
  },
  "language_info": {
   "codemirror_mode": {
    "name": "ipython",
    "version": 3
   },
   "file_extension": ".py",
   "mimetype": "text/x-python",
   "name": "python",
   "nbconvert_exporter": "python",
   "pygments_lexer": "ipython3",
   "version": "3.8.10"
  },
  "orig_nbformat": 4,
  "vscode": {
   "interpreter": {
    "hash": "e7370f93d1d0cde622a1f8e1c04877d8463912d04d973331ad4851f04de6915a"
   }
  }
 },
 "nbformat": 4,
 "nbformat_minor": 2
}
