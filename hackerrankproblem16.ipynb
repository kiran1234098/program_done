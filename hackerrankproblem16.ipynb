{
 "cells": [
  {
   "cell_type": "markdown",
   "metadata": {},
   "source": [
    "Sam's house has an apple tree and an orange tree that yield an abundance of fruit. Using the information given below, determine the number of apples and oranges that land on Sam's house.\n",
    "\n",
    "In the diagram below:\n",
    "\n",
    "The red region denotes the house, where  is the start point, and  is the endpoint. The apple tree is to the left of the house, and the orange tree is to its right.\n",
    "Assume the trees are located on a single point, where the apple tree is at point , and the orange tree is at point .\n",
    "When a fruit falls from its tree, it lands  units of distance from its tree of origin along the -axis. *A negative value of  means the fruit fell  units to the tree's left, and a positive value of  means it falls  units to the tree's right. *\n",
    "Apple and orange(2).png\n",
    "\n",
    "Given the value of  for  apples and  oranges, determine how many apples and oranges will fall on Sam's house (i.e., in the inclusive range )?\n",
    "\n",
    "For example, Sam's house is between  and . The apple tree is located at  and the orange at . There are  apples and  oranges. Apples are thrown  units distance from , and  units distance. Adding each apple distance to the position of the tree, they land at . Oranges land at . One apple and two oranges land in the inclusive range  so we print\n",
    "\n",
    "1\n",
    "2\n",
    "Function Description\n",
    "\n",
    "Complete the countApplesAndOranges function in the editor below. It should print the number of apples and oranges that land on Sam's house, each on a separate line.\n",
    "\n",
    "countApplesAndOranges has the following parameter(s):\n",
    "\n",
    "s: integer, starting point of Sam's house location.\n",
    "t: integer, ending location of Sam's house location.\n",
    "a: integer, location of the Apple tree.\n",
    "b: integer, location of the Orange tree.\n",
    "apples: integer array, distances at which each apple falls from the tree.\n",
    "oranges: integer array, distances at which each orange falls from the tree.\n",
    "Input Format\n",
    "\n",
    "The first line contains two space-separated integers denoting the respective values of  and .\n",
    "The second line contains two space-separated integers denoting the respective values of  and .\n",
    "The third line contains two space-separated integers denoting the respective values of  and .\n",
    "The fourth line contains  space-separated integers denoting the respective distances that each apple falls from point .\n",
    "The fifth line contains  space-separated integers denoting the respective distances that each orange falls from point .\n",
    "\n",
    "Constraints\n",
    "\n",
    "Output Format\n",
    "\n",
    "Print two integers on two different lines:\n",
    "\n",
    "The first integer: the number of apples that fall on Sam's house.\n",
    "The second integer: the number of oranges that fall on Sam's house.\n",
    "Sample Input 0\n",
    "\n",
    "7 11\n",
    "5 15\n",
    "3 2\n",
    "-2 2 1\n",
    "5 -6\n",
    "Sample Output 0\n",
    "\n",
    "1\n",
    "1\n",
    "Explanation 0\n",
    "\n",
    "The first apple falls at position .\n",
    "The second apple falls at position .\n",
    "The third apple falls at position .\n",
    "The first orange falls at position .\n",
    "The second orange falls at position .\n",
    "Only one fruit (the second apple) falls within the region between  and , so we print  as our first line of output.\n",
    "Only the second orange falls within the region between  and , so we print  as our second line of output."
   ]
  },
  {
   "cell_type": "code",
   "execution_count": null,
   "metadata": {},
   "outputs": [],
   "source": [
    "def countApplesAndOranges(s, t, a, b, apples, oranges):\n",
    "    # Write your code here\n",
    "    Acount=Ocount=0\n",
    "    for i in range(0,len(apples),1):\n",
    "        Avalue=a+apples[i]\n",
    "        if Avalue>=s and Avalue <=t:\n",
    "            Acount=Acount+1\n",
    "            \n",
    "    for j in range(0,len(oranges),1):\n",
    "        Ovalue=b+oranges[j]\n",
    "        if Ovalue>=s and Ovalue <=t:\n",
    "            Ocount=Ocount+1         \n",
    "            \n",
    "    print(Acount)       \n",
    "    print(Ocount) \n",
    "            "
   ]
  }
 ],
 "metadata": {
  "kernelspec": {
   "display_name": "Python 3.8.10 64-bit",
   "language": "python",
   "name": "python3"
  },
  "language_info": {
   "name": "python",
   "version": "3.8.10"
  },
  "orig_nbformat": 4,
  "vscode": {
   "interpreter": {
    "hash": "e7370f93d1d0cde622a1f8e1c04877d8463912d04d973331ad4851f04de6915a"
   }
  }
 },
 "nbformat": 4,
 "nbformat_minor": 2
}
