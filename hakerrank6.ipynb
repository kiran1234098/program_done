{
 "cells": [
  {
   "cell_type": "markdown",
   "metadata": {},
   "source": [
    "Given a square matrix, calculate the absolute difference between the sums of its diagonals.\n",
    "\n",
    "For example, the square matrix  is shown below:\n",
    "\n",
    "1 2 3\n",
    "4 5 6\n",
    "9 8 9  \n",
    "The left-to-right diagonal = . The right to left diagonal = . Their absolute difference is .\n",
    "\n",
    "Function description\n",
    "\n",
    "Complete the  function in the editor below.\n",
    "\n",
    "diagonalDifference takes the following parameter:\n",
    "\n",
    "int arr[n][m]: an array of integers\n",
    "Return\n",
    "\n",
    "int: the absolute diagonal difference\n",
    "Input Format\n",
    "\n",
    "The first line contains a single integer, , the number of rows and columns in the square matrix .\n",
    "Each of the next  lines describes a row, , and consists of  space-separated integers .\n",
    "\n",
    "Constraints\n",
    "\n",
    "Output Format\n",
    "\n",
    "Return the absolute difference between the sums of the matrix's two diagonals as a single integer.\n",
    "\n",
    "Sample Input\n",
    "\n",
    "3\n",
    "11 2 4\n",
    "4 5 6\n",
    "10 8 -12\n",
    "Sample Output\n",
    "\n",
    "15\n",
    "Explanation\n",
    "\n",
    "The primary diagonal is:\n",
    "\n",
    "11\n",
    "   5\n",
    "     -12\n",
    "Sum across the primary diagonal: 11 + 5 - 12 = 4\n",
    "\n",
    "The secondary diagonal is:\n",
    "\n",
    "     4\n",
    "   5\n",
    "10\n",
    "Sum across the secondary diagonal: 4 + 5 + 10 = 19\n",
    "Difference: |4 - 19| = 15\n",
    "\n",
    "Note: |x| is the absolute value of x"
   ]
  },
  {
   "cell_type": "code",
   "execution_count": 7,
   "metadata": {},
   "outputs": [
    {
     "data": {
      "text/plain": [
       "4"
      ]
     },
     "execution_count": 7,
     "metadata": {},
     "output_type": "execute_result"
    }
   ],
   "source": [
    "def diagonalDifference(arr):\n",
    "    # Write your code here\n",
    "    c=len(arr)\n",
    "  \n",
    "    j=c-1\n",
    "    leftsum = rightsum=0\n",
    "    for i in range(c):\n",
    "        leftsum=leftsum+arr[i][i]\n",
    "\n",
    "        rightsum=rightsum+arr[i][j]\n",
    "    \n",
    "        j=j-1\n",
    "    \n",
    "    dif=leftsum-rightsum\n",
    "    Adif=abs(dif) \n",
    "    return Adif  \n",
    "\n",
    "\n",
    "r=diagonalDifference([[2,3,4],[4,5,5],[5,4,3]])    \n",
    "r"
   ]
  }
 ],
 "metadata": {
  "kernelspec": {
   "display_name": "Python 3.8.10 64-bit",
   "language": "python",
   "name": "python3"
  },
  "language_info": {
   "codemirror_mode": {
    "name": "ipython",
    "version": 3
   },
   "file_extension": ".py",
   "mimetype": "text/x-python",
   "name": "python",
   "nbconvert_exporter": "python",
   "pygments_lexer": "ipython3",
   "version": "3.8.10"
  },
  "orig_nbformat": 4,
  "vscode": {
   "interpreter": {
    "hash": "e7370f93d1d0cde622a1f8e1c04877d8463912d04d973331ad4851f04de6915a"
   }
  }
 },
 "nbformat": 4,
 "nbformat_minor": 2
}
