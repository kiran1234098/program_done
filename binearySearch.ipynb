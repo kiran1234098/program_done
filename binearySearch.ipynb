{
 "cells": [
  {
   "cell_type": "markdown",
   "metadata": {},
   "source": [
    "time complexity is O(logn)"
   ]
  },
  {
   "cell_type": "code",
   "execution_count": 9,
   "metadata": {},
   "outputs": [
    {
     "name": "stdout",
     "output_type": "stream",
     "text": [
      "7\n"
     ]
    }
   ],
   "source": [
    "def binearySearch(arr,i,j,x):\n",
    "    mid=i+(j-i)//2\n",
    "\n",
    "    if i<=j:\n",
    "        if x==arr[mid]:\n",
    "             return mid \n",
    "        elif x>arr[mid]:\n",
    "             return binearySearch(arr,mid+1,j,x) \n",
    "\n",
    "\n",
    "\n",
    "        else :\n",
    "             return binearySearch(arr,i,mid-1,x)    \n",
    "\n",
    "    else:\n",
    "        return -1\n",
    "    \n",
    "\n",
    "\n",
    "\n",
    "arr= [2,5,10,14,16,20,23,40]\n",
    "x=40\n",
    "i=0\n",
    "j=len(arr)-1\n",
    "result=binearySearch(arr,i,j,x)\n",
    "print(result)\n"
   ]
  },
  {
   "cell_type": "code",
   "execution_count": 10,
   "metadata": {},
   "outputs": [
    {
     "name": "stdout",
     "output_type": "stream",
     "text": [
      "7\n"
     ]
    }
   ],
   "source": [
    "def binearySearch(arr,i,j,x):\n",
    "    while i<=j:\n",
    "        mid = i+ (j-i)//2\n",
    "        if arr[mid]==x:\n",
    "            return mid\n",
    "        elif arr[mid]<x:\n",
    "            return binearySearch(arr,mid+1,j,x)\n",
    "        else:\n",
    "            return binearySearch(arr,i,mid-1,x)\n",
    "    return -1                \n",
    "\n",
    "\n",
    "\n",
    "\n",
    "arr= [2,5,10,14,16,20,23,40]\n",
    "x=40\n",
    "i=0\n",
    "j=len(arr)-1\n",
    "result=binearySearch(arr,i,j,x)\n",
    "print(result)"
   ]
  },
  {
   "cell_type": "code",
   "execution_count": 12,
   "metadata": {},
   "outputs": [
    {
     "name": "stdout",
     "output_type": "stream",
     "text": [
      "-1\n"
     ]
    }
   ],
   "source": [
    "def binearySearch(arr,i,j,x):\n",
    "    while i<=j:\n",
    "        mid = i+ (j-i)//2\n",
    "        if arr[mid]==x:\n",
    "            return mid\n",
    "        elif arr[mid]<x:\n",
    "            i=mid+1\n",
    "        else:\n",
    "            i=mid-1\n",
    "    return -1                \n",
    "\n",
    "\n",
    "\n",
    "\n",
    "arr= [2,5,10,14,16,20,23,40]\n",
    "x=43\n",
    "i=0\n",
    "j=len(arr)-1\n",
    "result=binearySearch(arr,i,j,x)\n",
    "print(result)"
   ]
  }
 ],
 "metadata": {
  "kernelspec": {
   "display_name": "Python 3.8.10 64-bit",
   "language": "python",
   "name": "python3"
  },
  "language_info": {
   "codemirror_mode": {
    "name": "ipython",
    "version": 3
   },
   "file_extension": ".py",
   "mimetype": "text/x-python",
   "name": "python",
   "nbconvert_exporter": "python",
   "pygments_lexer": "ipython3",
   "version": "3.8.10"
  },
  "orig_nbformat": 4,
  "vscode": {
   "interpreter": {
    "hash": "e7370f93d1d0cde622a1f8e1c04877d8463912d04d973331ad4851f04de6915a"
   }
  }
 },
 "nbformat": 4,
 "nbformat_minor": 2
}
